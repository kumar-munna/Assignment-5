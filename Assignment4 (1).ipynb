{
 "cells": [
  {
   "cell_type": "code",
   "execution_count": 2,
   "id": "330c25bd-3b96-4690-b5f7-5b5e24745aae",
   "metadata": {},
   "outputs": [],
   "source": [
    "# Q1. Create a python program to sort the given list of tuples based on\n",
    "# integer value using a lambda function.\n",
    "# [('Sachin Tendulkar', 34357), ('Ricky Ponting', 27483), ('Jack Kallis', 25534), \n",
    "#  ('Virat Kohli', 24936)]"
   ]
  },
  {
   "cell_type": "code",
   "execution_count": 9,
   "id": "031edbb9-5796-4ff5-a785-7ffcfec40e09",
   "metadata": {},
   "outputs": [],
   "source": [
    "# answer 1:"
   ]
  },
  {
   "cell_type": "code",
   "execution_count": 10,
   "id": "556019d1-8fbb-40a7-b99f-a1c1d5aad856",
   "metadata": {},
   "outputs": [
    {
     "name": "stdout",
     "output_type": "stream",
     "text": [
      "[('Virat Kohli', 24936), ('Jack Kallis', 25534), ('Ricky Ponting', 27483), ('Sachin Tendulkar', 34357)]\n"
     ]
    }
   ],
   "source": [
    "players = [('Sachin Tendulkar', 34357), ('Ricky Ponting', 27483), ('Jack Kallis', 25534), ('Virat Kohli', 24936)]\n",
    "\n",
    "sorted_players = sorted(players, key=lambda x: x[1])\n",
    "\n",
    "print(sorted_players)"
   ]
  },
  {
   "cell_type": "code",
   "execution_count": 48,
   "id": "822fa489-978d-458b-92e4-d6425a6c9699",
   "metadata": {},
   "outputs": [],
   "source": [
    "# Q2. Write a Python Program to find the squares of all the numbers\n",
    "# in the given list of integers using lambda and map functions.\n",
    "#[1, 2, 3, 4, 5, 6, 7, 8, 9, 10]"
   ]
  },
  {
   "cell_type": "code",
   "execution_count": 49,
   "id": "c869fa29-16f1-48bf-9ed6-807826c8b3fe",
   "metadata": {},
   "outputs": [],
   "source": [
    "# Answer 2:"
   ]
  },
  {
   "cell_type": "code",
   "execution_count": 50,
   "id": "c33e0b9a-b981-4d94-b331-7e3cc24a0a73",
   "metadata": {},
   "outputs": [
    {
     "data": {
      "text/plain": [
       "[1, 4, 9, 16, 25, 36, 49, 64, 81, 100]"
      ]
     },
     "execution_count": 50,
     "metadata": {},
     "output_type": "execute_result"
    }
   ],
   "source": [
    "l=[1,2,3,4,5,6,7,8,9,10]\n",
    "list(map(lambda x:x**2,l))"
   ]
  },
  {
   "cell_type": "code",
   "execution_count": 51,
   "id": "b10aa035-0ed9-4bfb-8cdb-6bd6e4ed89f2",
   "metadata": {},
   "outputs": [],
   "source": [
    "# Q3. Write a python program to convert the given list of integers into a \n",
    "# tuple of strings. Use map and lambda functions\n",
    "\n",
    "\n",
    "# Given String: [1, 2, 3, 4, 5, 6, 7, 8, 9, 10]\n",
    "\n",
    "# Expected output: ('1', '2', '3', '4', '5', '6', '7', '8', '9', '10')"
   ]
  },
  {
   "cell_type": "code",
   "execution_count": 52,
   "id": "a0f06dfe-fe93-4c6a-8ed9-85de7925d5e9",
   "metadata": {},
   "outputs": [],
   "source": [
    "# Answer 3:"
   ]
  },
  {
   "cell_type": "code",
   "execution_count": 53,
   "id": "26027760-8dd5-44df-8ee3-ae9750ab2ac9",
   "metadata": {},
   "outputs": [
    {
     "data": {
      "text/plain": [
       "('1', '2', '3', '4', '5', '6', '7', '8', '9', '10')"
      ]
     },
     "execution_count": 53,
     "metadata": {},
     "output_type": "execute_result"
    }
   ],
   "source": [
    "s=[1,2,3,4,5,6,7,8,9,10]\n",
    "tuple(map(lambda x:str(x),s))\n"
   ]
  },
  {
   "cell_type": "code",
   "execution_count": 54,
   "id": "c4141a2b-d9a4-45ef-ac18-dfb1fc4c22e8",
   "metadata": {},
   "outputs": [],
   "source": [
    "# Q4.  Write a python program using reduce function to compute the product\n",
    "# of a list containing numbers from 1 to 25."
   ]
  },
  {
   "cell_type": "code",
   "execution_count": 55,
   "id": "018f7e6a-5050-4350-abd7-8159419c9feb",
   "metadata": {},
   "outputs": [],
   "source": [
    "# Answer 4:"
   ]
  },
  {
   "cell_type": "code",
   "execution_count": 4,
   "id": "0aa2b5b3-62b8-4291-82a3-b6d883304cd6",
   "metadata": {},
   "outputs": [],
   "source": [
    "from functools import reduce"
   ]
  },
  {
   "cell_type": "code",
   "execution_count": 1,
   "id": "4f515b7d-2649-4d81-95c8-a1c6c7a7af06",
   "metadata": {},
   "outputs": [],
   "source": [
    "l=[]\n",
    "for i in range(1,26):\n",
    "    l.append(i)"
   ]
  },
  {
   "cell_type": "code",
   "execution_count": 5,
   "id": "9e7b55aa-1f06-4911-80c2-d24a163ee917",
   "metadata": {},
   "outputs": [
    {
     "data": {
      "text/plain": [
       "15511210043330985984000000"
      ]
     },
     "execution_count": 5,
     "metadata": {},
     "output_type": "execute_result"
    }
   ],
   "source": [
    "reduce(lambda x,y:x*y,l)"
   ]
  },
  {
   "cell_type": "code",
   "execution_count": 7,
   "id": "4fc35e60-a1da-4854-b2bb-bde962c9991a",
   "metadata": {},
   "outputs": [],
   "source": [
    "# Q5. Write a python program to filter the numbers in a given list that are\n",
    "# divisible by 2 and 3 using the filter function\n",
    "#[2, 3, 6, 9, 27, 60, 90, 120, 55, 46]"
   ]
  },
  {
   "cell_type": "code",
   "execution_count": null,
   "id": "b19674d3-4d31-43ee-85f9-c62ae028a389",
   "metadata": {},
   "outputs": [],
   "source": [
    "# Answer 5:"
   ]
  },
  {
   "cell_type": "code",
   "execution_count": 12,
   "id": "9ea66739-56f1-482e-b19a-66c5be68a3a7",
   "metadata": {},
   "outputs": [
    {
     "data": {
      "text/plain": [
       "[6, 60, 90, 120]"
      ]
     },
     "execution_count": 12,
     "metadata": {},
     "output_type": "execute_result"
    }
   ],
   "source": [
    "l=[2,3,6,9,27,60,90,120,55,46]\n",
    "list(filter(lambda x:x%2==0 and x%3==0 ,l))"
   ]
  },
  {
   "cell_type": "code",
   "execution_count": 8,
   "id": "35f72604-4a38-4dc8-ac5a-fe76cb265e50",
   "metadata": {},
   "outputs": [],
   "source": [
    "# Q6. Write a python program to find palindromes in the given list of strings\n",
    "# using lambda and filter function.\n",
    "\n",
    "\n",
    "# ['python', 'php', 'aba', 'radar', 'level']"
   ]
  },
  {
   "cell_type": "code",
   "execution_count": 10,
   "id": "18af131c-05b9-475d-9a5c-00f62224e09c",
   "metadata": {},
   "outputs": [],
   "source": [
    "# Answer 6:"
   ]
  },
  {
   "cell_type": "code",
   "execution_count": 16,
   "id": "e10f57eb-3524-4b2e-9e5c-da08401f5469",
   "metadata": {},
   "outputs": [
    {
     "data": {
      "text/plain": [
       "['php', 'aba', 'radar', 'level']"
      ]
     },
     "execution_count": 16,
     "metadata": {},
     "output_type": "execute_result"
    }
   ],
   "source": [
    "l1=['python','php','aba','radar','level']\n",
    "list(filter(lambda x:x[::-1]==x[::1],l1))"
   ]
  },
  {
   "cell_type": "code",
   "execution_count": null,
   "id": "5be5c16d-d19c-4532-b5de-f9834f3ede3c",
   "metadata": {},
   "outputs": [],
   "source": []
  }
 ],
 "metadata": {
  "kernelspec": {
   "display_name": "Python 3 (ipykernel)",
   "language": "python",
   "name": "python3"
  },
  "language_info": {
   "codemirror_mode": {
    "name": "ipython",
    "version": 3
   },
   "file_extension": ".py",
   "mimetype": "text/x-python",
   "name": "python",
   "nbconvert_exporter": "python",
   "pygments_lexer": "ipython3",
   "version": "3.10.8"
  }
 },
 "nbformat": 4,
 "nbformat_minor": 5
}
